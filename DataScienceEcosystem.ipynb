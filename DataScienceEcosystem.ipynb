{
 "cells": [
  {
   "cell_type": "markdown",
   "id": "eaa0b0d0-2406-40b4-baa6-2415f089b05f",
   "metadata": {},
   "source": [
    "# Data Science Tools and Ecosystem"
   ]
  },
  {
   "cell_type": "markdown",
   "id": "8c1b20ff-33ef-4f5f-9163-cf44c8bdb538",
   "metadata": {},
   "source": [
    "In this notebook, Data Science Tools and Ecosystem are summarized."
   ]
  },
  {
   "cell_type": "markdown",
   "id": "aac1e30b-3ff0-4726-9307-55d30636f925",
   "metadata": {},
   "source": [
    "Some of the popular languages that Data Scientists use are:\n",
    "1. Python\n",
    "2. R\n",
    "3. SQL\n",
    "4. Julia"
   ]
  },
  {
   "cell_type": "markdown",
   "id": "f927d54c-5e95-4382-b1ed-af4e7e5d4c7c",
   "metadata": {},
   "source": [
    "Some of the commonly used libraries used by Data Scientists include:\n",
    "\n",
    "1. Pandas\n",
    "2. NumPy\n",
    "3. Matplotlib\n",
    "4. Scikit-learn"
   ]
  },
  {
   "cell_type": "markdown",
   "id": "d0e5dda4-97b1-45bb-aa4c-b7149544a5f9",
   "metadata": {},
   "source": [
    "| Data Science Tools |\n",
    "|--------------------|\n",
    "| Jupyter Notebook   |\n",
    "| RStudio            |\n",
    "| Apache Zeppelin    |\n"
   ]
  },
  {
   "cell_type": "markdown",
   "id": "d3b31824-95b9-4567-b4ca-d0fa967cbb09",
   "metadata": {},
   "source": [
    "### Below are a few examples of evaluating arithmetic expressions in Python:"
   ]
  },
  {
   "cell_type": "code",
   "execution_count": 2,
   "id": "7552bfab-1520-4520-8d3d-f779824877ab",
   "metadata": {},
   "outputs": [
    {
     "name": "stdout",
     "output_type": "stream",
     "text": [
      "5 + 3 = 8\n",
      "10 - 4 = 6\n",
      "6 * 7 = 42\n",
      "20 / 5 = 4.0\n"
     ]
    }
   ],
   "source": [
    "# Example 1: Addition\n",
    "result_addition = 5 + 3\n",
    "print(\"5 + 3 =\", result_addition)\n",
    "\n",
    "# Example 2: Subtraction\n",
    "result_subtraction = 10 - 4\n",
    "print(\"10 - 4 =\", result_subtraction)\n",
    "\n",
    "# Example 3: Multiplication\n",
    "result_multiplication = 6 * 7\n",
    "print(\"6 * 7 =\", result_multiplication)\n",
    "\n",
    "# Example 4: Division\n",
    "result_division = 20 / 5\n",
    "print(\"20 / 5 =\", result_division)\n"
   ]
  },
  {
   "cell_type": "code",
   "execution_count": 3,
   "id": "378739dd-4bb7-4f3d-aab5-cd9a3f33eea7",
   "metadata": {},
   "outputs": [
    {
     "name": "stdout",
     "output_type": "stream",
     "text": [
      "17\n"
     ]
    }
   ],
   "source": [
    "# This is a simple arithmetic expression to multiply then add integers\n",
    "result = (3 * 4) + 5\n",
    "print(result)\n"
   ]
  },
  {
   "cell_type": "code",
   "execution_count": 4,
   "id": "712ff9ef-d388-4f12-bb4f-d149305a19ad",
   "metadata": {},
   "outputs": [
    {
     "name": "stdout",
     "output_type": "stream",
     "text": [
      "3.3333333333333335\n"
     ]
    }
   ],
   "source": [
    "# This will convert 200 minutes to hours by dividing by 60\n",
    "minutes = 200\n",
    "hours = minutes / 60\n",
    "print(hours)\n"
   ]
  },
  {
   "cell_type": "markdown",
   "id": "112dfdcd-dcdf-4420-a50a-64186d22eae9",
   "metadata": {},
   "source": [
    "**Objectives:**\n",
    "\n",
    "- List popular languages for Data Science.\n",
    "- Understand common libraries used in Data Science.\n",
    "- Learn about development tools and environments for Data Science.\n",
    "- Evaluate arithmetic expressions in Python.\n",
    "- Convert minutes into hours using Python.\n"
   ]
  },
  {
   "cell_type": "markdown",
   "id": "4db112b5-44b5-4963-852a-9cc539c8b941",
   "metadata": {},
   "source": [
    "## Author\n",
    "Oriana\n"
   ]
  },
  {
   "cell_type": "code",
   "execution_count": null,
   "id": "64114a39-2073-4e7d-8e3f-433ce70b3f6c",
   "metadata": {},
   "outputs": [],
   "source": []
  }
 ],
 "metadata": {
  "kernelspec": {
   "display_name": "Python 3 (ipykernel)",
   "language": "python",
   "name": "python3"
  },
  "language_info": {
   "codemirror_mode": {
    "name": "ipython",
    "version": 3
   },
   "file_extension": ".py",
   "mimetype": "text/x-python",
   "name": "python",
   "nbconvert_exporter": "python",
   "pygments_lexer": "ipython3",
   "version": "3.11.7"
  }
 },
 "nbformat": 4,
 "nbformat_minor": 5
}
